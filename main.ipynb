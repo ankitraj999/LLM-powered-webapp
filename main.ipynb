{
  "nbformat": 4,
  "nbformat_minor": 0,
  "metadata": {
    "colab": {
      "provenance": [],
      "gpuType": "T4"
    },
    "kernelspec": {
      "name": "python3",
      "display_name": "Python 3"
    },
    "language_info": {
      "name": "python"
    },
    "accelerator": "GPU"
  },
  "cells": [
    {
      "cell_type": "code",
      "execution_count": null,
      "metadata": {
        "id": "EXGTmBdjsN_8"
      },
      "outputs": [],
      "source": [
        "#@title Importing Libraries\n",
        "from google.colab import files\n",
        "import requests\n",
        "from PIL import Image\n",
        "from transformers import BlipProcessor, BlipForConditionalGeneration\n",
        "import torch\n",
        "from gtts import gTTS\n",
        "from datetime import datetime\n",
        "import pytz"
      ]
    },
    {
      "cell_type": "code",
      "source": [
        "# Checking the current runtime\n",
        "availableRuntime=\"GPU\" if torch.cuda.is_available() else \"CPU\"\n",
        "availableRuntime"
      ],
      "metadata": {
        "colab": {
          "base_uri": "https://localhost:8080/",
          "height": 35
        },
        "id": "oTRD70Rtsb30",
        "outputId": "d33b9988-5880-403b-fd6e-102a95901843"
      },
      "execution_count": null,
      "outputs": [
        {
          "output_type": "execute_result",
          "data": {
            "text/plain": [
              "'CPU'"
            ],
            "application/vnd.google.colaboratory.intrinsic+json": {
              "type": "string"
            }
          },
          "metadata": {},
          "execution_count": 12
        }
      ]
    },
    {
      "cell_type": "code",
      "source": [
        "#@title Phase 1: Uploading image\n",
        "# uploading image file and returning file name\n",
        "def uploadImgFile():\n",
        "  # Prompt the user to upload a file\n",
        "  uploaded = files.upload()\n",
        "  uploadedFileName=\"\"\n",
        "  # Print the uploaded file name\n",
        "  for filename in uploaded.keys():\n",
        "      uploadedFileName=filename\n",
        "  return uploadedFileName"
      ],
      "metadata": {
        "id": "TmiZyaaIsiOk"
      },
      "execution_count": null,
      "outputs": []
    },
    {
      "cell_type": "code",
      "source": [
        "fileName=uploadImgFile()"
      ],
      "metadata": {
        "colab": {
          "base_uri": "https://localhost:8080/",
          "height": 69
        },
        "id": "EDttlRnDs2wt",
        "outputId": "d06097e0-7e70-4ef4-d0f9-48a9554a5b7c"
      },
      "execution_count": null,
      "outputs": [
        {
          "output_type": "display_data",
          "data": {
            "text/plain": [
              "<IPython.core.display.HTML object>"
            ],
            "text/html": [
              "\n",
              "     <input type=\"file\" id=\"files-1c94c4d0-5c58-432c-a39a-5ecf542b360c\" name=\"files[]\" multiple disabled\n",
              "        style=\"border:none\" />\n",
              "     <output id=\"result-1c94c4d0-5c58-432c-a39a-5ecf542b360c\">\n",
              "      Upload widget is only available when the cell has been executed in the\n",
              "      current browser session. Please rerun this cell to enable.\n",
              "      </output>\n",
              "      <script>// Copyright 2017 Google LLC\n",
              "//\n",
              "// Licensed under the Apache License, Version 2.0 (the \"License\");\n",
              "// you may not use this file except in compliance with the License.\n",
              "// You may obtain a copy of the License at\n",
              "//\n",
              "//      http://www.apache.org/licenses/LICENSE-2.0\n",
              "//\n",
              "// Unless required by applicable law or agreed to in writing, software\n",
              "// distributed under the License is distributed on an \"AS IS\" BASIS,\n",
              "// WITHOUT WARRANTIES OR CONDITIONS OF ANY KIND, either express or implied.\n",
              "// See the License for the specific language governing permissions and\n",
              "// limitations under the License.\n",
              "\n",
              "/**\n",
              " * @fileoverview Helpers for google.colab Python module.\n",
              " */\n",
              "(function(scope) {\n",
              "function span(text, styleAttributes = {}) {\n",
              "  const element = document.createElement('span');\n",
              "  element.textContent = text;\n",
              "  for (const key of Object.keys(styleAttributes)) {\n",
              "    element.style[key] = styleAttributes[key];\n",
              "  }\n",
              "  return element;\n",
              "}\n",
              "\n",
              "// Max number of bytes which will be uploaded at a time.\n",
              "const MAX_PAYLOAD_SIZE = 100 * 1024;\n",
              "\n",
              "function _uploadFiles(inputId, outputId) {\n",
              "  const steps = uploadFilesStep(inputId, outputId);\n",
              "  const outputElement = document.getElementById(outputId);\n",
              "  // Cache steps on the outputElement to make it available for the next call\n",
              "  // to uploadFilesContinue from Python.\n",
              "  outputElement.steps = steps;\n",
              "\n",
              "  return _uploadFilesContinue(outputId);\n",
              "}\n",
              "\n",
              "// This is roughly an async generator (not supported in the browser yet),\n",
              "// where there are multiple asynchronous steps and the Python side is going\n",
              "// to poll for completion of each step.\n",
              "// This uses a Promise to block the python side on completion of each step,\n",
              "// then passes the result of the previous step as the input to the next step.\n",
              "function _uploadFilesContinue(outputId) {\n",
              "  const outputElement = document.getElementById(outputId);\n",
              "  const steps = outputElement.steps;\n",
              "\n",
              "  const next = steps.next(outputElement.lastPromiseValue);\n",
              "  return Promise.resolve(next.value.promise).then((value) => {\n",
              "    // Cache the last promise value to make it available to the next\n",
              "    // step of the generator.\n",
              "    outputElement.lastPromiseValue = value;\n",
              "    return next.value.response;\n",
              "  });\n",
              "}\n",
              "\n",
              "/**\n",
              " * Generator function which is called between each async step of the upload\n",
              " * process.\n",
              " * @param {string} inputId Element ID of the input file picker element.\n",
              " * @param {string} outputId Element ID of the output display.\n",
              " * @return {!Iterable<!Object>} Iterable of next steps.\n",
              " */\n",
              "function* uploadFilesStep(inputId, outputId) {\n",
              "  const inputElement = document.getElementById(inputId);\n",
              "  inputElement.disabled = false;\n",
              "\n",
              "  const outputElement = document.getElementById(outputId);\n",
              "  outputElement.innerHTML = '';\n",
              "\n",
              "  const pickedPromise = new Promise((resolve) => {\n",
              "    inputElement.addEventListener('change', (e) => {\n",
              "      resolve(e.target.files);\n",
              "    });\n",
              "  });\n",
              "\n",
              "  const cancel = document.createElement('button');\n",
              "  inputElement.parentElement.appendChild(cancel);\n",
              "  cancel.textContent = 'Cancel upload';\n",
              "  const cancelPromise = new Promise((resolve) => {\n",
              "    cancel.onclick = () => {\n",
              "      resolve(null);\n",
              "    };\n",
              "  });\n",
              "\n",
              "  // Wait for the user to pick the files.\n",
              "  const files = yield {\n",
              "    promise: Promise.race([pickedPromise, cancelPromise]),\n",
              "    response: {\n",
              "      action: 'starting',\n",
              "    }\n",
              "  };\n",
              "\n",
              "  cancel.remove();\n",
              "\n",
              "  // Disable the input element since further picks are not allowed.\n",
              "  inputElement.disabled = true;\n",
              "\n",
              "  if (!files) {\n",
              "    return {\n",
              "      response: {\n",
              "        action: 'complete',\n",
              "      }\n",
              "    };\n",
              "  }\n",
              "\n",
              "  for (const file of files) {\n",
              "    const li = document.createElement('li');\n",
              "    li.append(span(file.name, {fontWeight: 'bold'}));\n",
              "    li.append(span(\n",
              "        `(${file.type || 'n/a'}) - ${file.size} bytes, ` +\n",
              "        `last modified: ${\n",
              "            file.lastModifiedDate ? file.lastModifiedDate.toLocaleDateString() :\n",
              "                                    'n/a'} - `));\n",
              "    const percent = span('0% done');\n",
              "    li.appendChild(percent);\n",
              "\n",
              "    outputElement.appendChild(li);\n",
              "\n",
              "    const fileDataPromise = new Promise((resolve) => {\n",
              "      const reader = new FileReader();\n",
              "      reader.onload = (e) => {\n",
              "        resolve(e.target.result);\n",
              "      };\n",
              "      reader.readAsArrayBuffer(file);\n",
              "    });\n",
              "    // Wait for the data to be ready.\n",
              "    let fileData = yield {\n",
              "      promise: fileDataPromise,\n",
              "      response: {\n",
              "        action: 'continue',\n",
              "      }\n",
              "    };\n",
              "\n",
              "    // Use a chunked sending to avoid message size limits. See b/62115660.\n",
              "    let position = 0;\n",
              "    do {\n",
              "      const length = Math.min(fileData.byteLength - position, MAX_PAYLOAD_SIZE);\n",
              "      const chunk = new Uint8Array(fileData, position, length);\n",
              "      position += length;\n",
              "\n",
              "      const base64 = btoa(String.fromCharCode.apply(null, chunk));\n",
              "      yield {\n",
              "        response: {\n",
              "          action: 'append',\n",
              "          file: file.name,\n",
              "          data: base64,\n",
              "        },\n",
              "      };\n",
              "\n",
              "      let percentDone = fileData.byteLength === 0 ?\n",
              "          100 :\n",
              "          Math.round((position / fileData.byteLength) * 100);\n",
              "      percent.textContent = `${percentDone}% done`;\n",
              "\n",
              "    } while (position < fileData.byteLength);\n",
              "  }\n",
              "\n",
              "  // All done.\n",
              "  yield {\n",
              "    response: {\n",
              "      action: 'complete',\n",
              "    }\n",
              "  };\n",
              "}\n",
              "\n",
              "scope.google = scope.google || {};\n",
              "scope.google.colab = scope.google.colab || {};\n",
              "scope.google.colab._files = {\n",
              "  _uploadFiles,\n",
              "  _uploadFilesContinue,\n",
              "};\n",
              "})(self);\n",
              "</script> "
            ]
          },
          "metadata": {}
        },
        {
          "output_type": "stream",
          "name": "stdout",
          "text": [
            "Saving ghost.jpeg to ghost.jpeg\n"
          ]
        }
      ]
    },
    {
      "cell_type": "code",
      "source": [
        "#@title Phase 2: Image to Text conversion\n",
        "#This code snippet defines a function BlipImagetoText(fileName) that\n",
        "#performs image captioning using the Blip model for both conditional and unconditional image captioning.\n",
        "def BlipImagetoText(fileName):\n",
        "  processor = BlipProcessor.from_pretrained(\"Salesforce/blip-image-captioning-large\")\n",
        "  model = BlipForConditionalGeneration.from_pretrained(\"Salesforce/blip-image-captioning-large\").to(\"cuda\") if availableRuntime == \"GPU\" else BlipForConditionalGeneration.from_pretrained(\"Salesforce/blip-image-captioning-large\")\n",
        "\n",
        "  raw_image = Image.open(fileName).convert('RGB')\n",
        "  # conditional image captioning\n",
        "  text = \"a photograph of \"\n",
        "  inputs = processor(raw_image, text, return_tensors=\"pt\").to(\"cuda\") if availableRuntime == \"GPU\" else processor(raw_image, text, return_tensors=\"pt\")\n",
        "\n",
        "  out = model.generate(**inputs)\n",
        "  #print(processor.decode(out[0], skip_special_tokens=True))\n",
        "\n",
        "  # unconditional image captioning\n",
        "  inputs = processor(raw_image, return_tensors=\"pt\").to(\"cuda\")\n",
        "  #set HF_TOKEN variable in google colab secret and get secret key from https://huggingface.co/settings/tokens\n",
        "  out = model.generate(**inputs,max_new_tokens=200)\n",
        "  return processor.decode(out[0], skip_special_tokens=True)"
      ],
      "metadata": {
        "id": "QKL72JNYsyhv"
      },
      "execution_count": null,
      "outputs": []
    },
    {
      "cell_type": "code",
      "source": [
        "textResult=BlipImagetoText(fileName)\n",
        "textResult"
      ],
      "metadata": {
        "id": "3h5bOnz4t9HT"
      },
      "execution_count": null,
      "outputs": []
    },
    {
      "cell_type": "code",
      "source": [
        "#@title Phase 3: Prompt generated text into LLM Model\n",
        "from openai import OpenAI\n",
        "from google.colab import userdata\n",
        "#save openai access key in notebook secret by name =openAIsecretKey  and provide acess to the notebook\n",
        "open_api_secret_name = 'openAIsecretKey'  # @param {type: \"string\"}\n",
        "\n",
        "try:\n",
        "  OPEN_API_KEY=userdata.get(open_api_secret_name)\n",
        "  client=OpenAI(api_key=OPEN_API_KEY)\n",
        "except userdata.SecretNotFoundError as e:\n",
        "   print(f'Secret not found\\n\\nThis expects you to create a secret named {open_api_secret_name} in Colab')\n",
        "   raise e\n",
        "except userdata.NotebookAccessError as e:\n",
        "  print(f'You need to grant this notebook access to the {open_api_secret_name} secret in order for the notebook to access openai on your behalf.')\n",
        "  raise e\n",
        "except Exception as e:\n",
        "  # unknown error\n",
        "  print(f\"There was an unknown error. Ensure you have a secret {open_api_secret_name} stored in Colab.\")\n",
        "  raise e"
      ],
      "metadata": {
        "id": "dn124OrVuAih"
      },
      "execution_count": null,
      "outputs": []
    },
    {
      "cell_type": "code",
      "source": [
        "#@title Open AI Model Prompt Creation\n",
        "model=\"gpt-3.5-turbo\"\n",
        "descriptionQuery=textResult\n",
        "def openaiInference(model,descriptionQuery):\n",
        "  completion = client.chat.completions.create(\n",
        "  model=model,\n",
        "  messages=[\n",
        "    {\"role\": \"system\", \"content\": \"you are a security observer. An image was clicked by suvelliance camer you get the {description} from the image create an announcement raising security threat if you find something life threatening , otherwise just brief the description without raising any threat alarm.\"\n",
        "    },\n",
        "    {\"role\": \"user\", \"content\":f\"{descriptionQuery}\"}\n",
        "    ]\n",
        "    )\n",
        "\n",
        "  return \" \".join(completion.choices[0].message.content.split(\"\\n\"))"
      ],
      "metadata": {
        "id": "crZ8RK1jubCs"
      },
      "execution_count": null,
      "outputs": []
    },
    {
      "cell_type": "code",
      "source": [
        "llmInference = openaiInference(model,descriptionQuery)\n",
        "llmInference"
      ],
      "metadata": {
        "id": "p0e4il3bur1Z"
      },
      "execution_count": null,
      "outputs": []
    },
    {
      "cell_type": "code",
      "source": [
        "#@title Phase 4: Text to speech conversion\n",
        "text_to_say=llmInference # text to convert into audio\n",
        "language='en'# gTTS support total 63 languages, here I am using english\n",
        "folderPath=\"/content/\" # for example - \"/content/\"\n",
        "\n",
        "globalfilepath=\"\"\n",
        "def audioWithFileSave(text,lang,folderPath):\n",
        "  global globalfilepath\n",
        "  # Get the current time in Pacific Time\n",
        "  pacific_time = datetime.now(pytz.timezone('America/Los_Angeles'))\n",
        "  # Format the current time as a string\n",
        "  formatted_time = pacific_time.strftime(\"%Y-%m-%d %H:%M:%S\")\n",
        "  gtts_obj=gTTS(text=text,lang=lang,slow=False)\n",
        "  folderPath=folderPath+\"audio+\"+str(formatted_time).replace(\" \",\"_\")+\".mp3\"\n",
        "  globalfilepath=folderPath\n",
        "  gtts_obj.save(folderPath)"
      ],
      "metadata": {
        "id": "JNRlU2YIu_uC"
      },
      "execution_count": null,
      "outputs": []
    },
    {
      "cell_type": "code",
      "source": [
        "#Calling function to same audio file\n",
        "audioWithFileSave(text_to_say,language,folderPath)"
      ],
      "metadata": {
        "id": "YXjild2jvoDM"
      },
      "execution_count": null,
      "outputs": []
    },
    {
      "cell_type": "code",
      "source": [
        "#@title Playing audio file in google colab\n",
        "from IPython.display import Audio\n",
        "Audio(globalfilepath)"
      ],
      "metadata": {
        "id": "spl0k4siv5mc"
      },
      "execution_count": null,
      "outputs": []
    }
  ]
}